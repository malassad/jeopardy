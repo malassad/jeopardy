{
 "cells": [
  {
   "cell_type": "code",
   "execution_count": 5,
   "metadata": {},
   "outputs": [],
   "source": [
    "#importing pandas\n",
    "import pandas as pd"
   ]
  },
  {
   "cell_type": "code",
   "execution_count": 30,
   "metadata": {
    "scrolled": true
   },
   "outputs": [
    {
     "data": {
      "text/html": [
       "<div>\n",
       "<style scoped>\n",
       "    .dataframe tbody tr th:only-of-type {\n",
       "        vertical-align: middle;\n",
       "    }\n",
       "\n",
       "    .dataframe tbody tr th {\n",
       "        vertical-align: top;\n",
       "    }\n",
       "\n",
       "    .dataframe thead th {\n",
       "        text-align: right;\n",
       "    }\n",
       "</style>\n",
       "<table border=\"1\" class=\"dataframe\">\n",
       "  <thead>\n",
       "    <tr style=\"text-align: right;\">\n",
       "      <th></th>\n",
       "      <th>Show Number</th>\n",
       "      <th>Air Date</th>\n",
       "      <th>Round</th>\n",
       "      <th>Category</th>\n",
       "      <th>Value</th>\n",
       "      <th>Question</th>\n",
       "      <th>Answer</th>\n",
       "    </tr>\n",
       "  </thead>\n",
       "  <tbody>\n",
       "    <tr>\n",
       "      <th>0</th>\n",
       "      <td>4680</td>\n",
       "      <td>2004-12-31</td>\n",
       "      <td>Jeopardy!</td>\n",
       "      <td>HISTORY</td>\n",
       "      <td>$200</td>\n",
       "      <td>For the last 8 years of his life, Galileo was under house arrest for espousing this man's theory</td>\n",
       "      <td>Copernicus</td>\n",
       "    </tr>\n",
       "    <tr>\n",
       "      <th>1</th>\n",
       "      <td>4680</td>\n",
       "      <td>2004-12-31</td>\n",
       "      <td>Jeopardy!</td>\n",
       "      <td>ESPN's TOP 10 ALL-TIME ATHLETES</td>\n",
       "      <td>$200</td>\n",
       "      <td>No. 2: 1912 Olympian; football star at Carlisle Indian School; 6 MLB seasons with the Reds, Giants &amp; Braves</td>\n",
       "      <td>Jim Thorpe</td>\n",
       "    </tr>\n",
       "    <tr>\n",
       "      <th>2</th>\n",
       "      <td>4680</td>\n",
       "      <td>2004-12-31</td>\n",
       "      <td>Jeopardy!</td>\n",
       "      <td>EVERYBODY TALKS ABOUT IT...</td>\n",
       "      <td>$200</td>\n",
       "      <td>The city of Yuma in this state has a record average of 4,055 hours of sunshine each year</td>\n",
       "      <td>Arizona</td>\n",
       "    </tr>\n",
       "    <tr>\n",
       "      <th>3</th>\n",
       "      <td>4680</td>\n",
       "      <td>2004-12-31</td>\n",
       "      <td>Jeopardy!</td>\n",
       "      <td>THE COMPANY LINE</td>\n",
       "      <td>$200</td>\n",
       "      <td>In 1963, live on \"The Art Linkletter Show\", this company served its billionth burger</td>\n",
       "      <td>McDonald's</td>\n",
       "    </tr>\n",
       "    <tr>\n",
       "      <th>4</th>\n",
       "      <td>4680</td>\n",
       "      <td>2004-12-31</td>\n",
       "      <td>Jeopardy!</td>\n",
       "      <td>EPITAPHS &amp; TRIBUTES</td>\n",
       "      <td>$200</td>\n",
       "      <td>Signer of the Dec. of Indep., framer of the Constitution of Mass., second President of the United States</td>\n",
       "      <td>John Adams</td>\n",
       "    </tr>\n",
       "  </tbody>\n",
       "</table>\n",
       "</div>"
      ],
      "text/plain": [
       "   Show Number    Air Date      Round                         Category  Value  \\\n",
       "0  4680         2004-12-31  Jeopardy!  HISTORY                          $200    \n",
       "1  4680         2004-12-31  Jeopardy!  ESPN's TOP 10 ALL-TIME ATHLETES  $200    \n",
       "2  4680         2004-12-31  Jeopardy!  EVERYBODY TALKS ABOUT IT...      $200    \n",
       "3  4680         2004-12-31  Jeopardy!  THE COMPANY LINE                 $200    \n",
       "4  4680         2004-12-31  Jeopardy!  EPITAPHS & TRIBUTES              $200    \n",
       "\n",
       "                                                                                                      Question  \\\n",
       "0  For the last 8 years of his life, Galileo was under house arrest for espousing this man's theory              \n",
       "1  No. 2: 1912 Olympian; football star at Carlisle Indian School; 6 MLB seasons with the Reds, Giants & Braves   \n",
       "2  The city of Yuma in this state has a record average of 4,055 hours of sunshine each year                      \n",
       "3  In 1963, live on \"The Art Linkletter Show\", this company served its billionth burger                          \n",
       "4  Signer of the Dec. of Indep., framer of the Constitution of Mass., second President of the United States      \n",
       "\n",
       "       Answer  \n",
       "0  Copernicus  \n",
       "1  Jim Thorpe  \n",
       "2  Arizona     \n",
       "3  McDonald's  \n",
       "4  John Adams  "
      ]
     },
     "execution_count": 30,
     "metadata": {},
     "output_type": "execute_result"
    }
   ],
   "source": [
    "#importing jeopardy CSV\n",
    "df = pd.read_csv('jeopardy.csv')\n",
    "df.head()"
   ]
  },
  {
   "cell_type": "code",
   "execution_count": 41,
   "metadata": {},
   "outputs": [
    {
     "data": {
      "text/plain": [
       "['Show Number', 'Air Date', 'Round', 'Category', 'Value', 'Question', 'Answer']"
      ]
     },
     "execution_count": 41,
     "metadata": {},
     "output_type": "execute_result"
    }
   ],
   "source": [
    "#changing column names (there is extra space in the beginning)\n",
    "list(df.columns)\n",
    "df.rename(columns = {'Show Number': 'Show Number',\n",
    " ' Air Date': 'Air Date',\n",
    " ' Round': 'Round',\n",
    " ' Category': 'Category',\n",
    " ' Value': 'Value',\n",
    " ' Question': 'Question',\n",
    " ' Answer': 'Answer'}, inplace = True)\n",
    "list(df.columns)"
   ]
  },
  {
   "cell_type": "code",
   "execution_count": 42,
   "metadata": {},
   "outputs": [
    {
     "name": "stdout",
     "output_type": "stream",
     "text": [
      "        Show Number    Air Date             Round               Category  \\\n",
      "4953    3003         1997-09-24  Double Jeopardy!  \"PH\"UN WORDS            \n",
      "6337    3517         1999-12-14  Double Jeopardy!  Y1K                     \n",
      "9191    3907         2001-09-04  Double Jeopardy!  WON THE BATTLE          \n",
      "11710   2903         1997-03-26  Double Jeopardy!  BRITISH MONARCHS        \n",
      "13454   4726         2005-03-07  Jeopardy!         A NUMBER FROM 1 TO 10   \n",
      "...      ...                ...        ...                           ...   \n",
      "208295  4621         2004-10-11  Jeopardy!         THE VIKINGS             \n",
      "208742  4863         2005-11-02  Double Jeopardy!  BEFORE & AFTER          \n",
      "213870  5856         2010-02-15  Double Jeopardy!  URANUS                  \n",
      "216021  1881         1992-11-09  Double Jeopardy!  HISTORIC NAMES          \n",
      "216789  5070         2006-09-29  Double Jeopardy!  ANCIENT HISTORY         \n",
      "\n",
      "         Value  \\\n",
      "4953    $200     \n",
      "6337    $800     \n",
      "9191    $800     \n",
      "11710   $600     \n",
      "13454   $1000    \n",
      "...       ...    \n",
      "208295  $600     \n",
      "208742  $3,000   \n",
      "213870  $1600    \n",
      "216021  $1000    \n",
      "216789  $1200    \n",
      "\n",
      "                                                                                                      Question  \\\n",
      "4953    Both England's King George V & FDR put their stamp of approval on this \"King of Hobbies\"                 \n",
      "6337    In retaliation for Viking raids, this \"Unready\" king of England attacks Norse areas of the Isle of Man   \n",
      "9191    This king of England beat the odds to trounce the French in the 1415 Battle of Agincourt                 \n",
      "11710   This Scotsman, the first Stuart king of England, was called \"The Wisest Fool in Christendom\"             \n",
      "13454   It's the number that followed the last king of England named William                                     \n",
      "...                                                                      ...                                     \n",
      "208295  In 1066 this great-great grandson of Rollo made what some call the last Viking invasion of England       \n",
      "208742  Dutch-born king who ruled England jointly with Mary II & is a tasty New Zealand fish                     \n",
      "213870  In 1781 William Herschel discovered Uranus & initially named it after this king of England               \n",
      "216021  His nickname was \"Bertie\", but he used this name & number when he became king of England in 1901         \n",
      "216789  This kingdom of England grew from 2 settlements, one founded around 495 by Cerdic & his son Cynric       \n",
      "\n",
      "                              Answer  \n",
      "4953    Philately (stamp collecting)  \n",
      "6337    Ethelred                      \n",
      "9191    Henry V                       \n",
      "11710   James I                       \n",
      "13454   4                             \n",
      "...    ..                             \n",
      "208295  William the Conqueror         \n",
      "208742  William of Orange roughy      \n",
      "213870  George III                    \n",
      "216021  Edward VII                    \n",
      "216789  Wessex                        \n",
      "\n",
      "[152 rows x 7 columns]\n"
     ]
    }
   ],
   "source": [
    "#finding the questions that contain either 'King' or 'England'\n",
    "def words_finder(dataframe, words):\n",
    "    finder = lambda x : all(word.lower() in x.lower() for word in words)\n",
    "    return dataframe.loc[dataframe['Question'].apply(finder)]\n",
    "\n",
    "king_england = words_finder(df, ['King', 'England'])\n",
    "\n",
    "print(king_england)"
   ]
  },
  {
   "cell_type": "code",
   "execution_count": 51,
   "metadata": {},
   "outputs": [
    {
     "data": {
      "text/plain": [
       "603.7249283667621"
      ]
     },
     "execution_count": 51,
     "metadata": {},
     "output_type": "execute_result"
    }
   ],
   "source": [
    "#Adding a column that has the values in floats and removing extra $ sign and ','\n",
    "df['Value Finder'] = df['Value'].apply(lambda x: float(x[1:].replace(',','')) if x != 'None' else 0)\n",
    "\n",
    "#Mean value of questions in category 'HISTORY'\n",
    "history = df[df['Category'] == 'HISTORY']\n",
    "history['Value Finder'].mean()"
   ]
  },
  {
   "cell_type": "code",
   "execution_count": 62,
   "metadata": {},
   "outputs": [
    {
     "name": "stdout",
     "output_type": "stream",
     "text": [
      "William the Conqueror       6\n",
      "Edward                      3\n",
      "Oliver Cromwell             3\n",
      "James I                     3\n",
      "Richard the Lionhearted     3\n",
      "                           ..\n",
      "Duke of Windsor             1\n",
      "William of Orange roughy    1\n",
      "\"the Merry Monarch\"         1\n",
      "3                           1\n",
      "William III                 1\n",
      "Name: Answer, Length: 114, dtype: int64\n"
     ]
    }
   ],
   "source": [
    "#Counting answers with 'King' or 'England'\n",
    "def get_answer_counts(dataframe):\n",
    "    return dataframe[\"Answer\"].value_counts()\n",
    "\n",
    "print(get_answer_counts(king_england))\n"
   ]
  }
 ],
 "metadata": {
  "kernelspec": {
   "display_name": "Python 3",
   "language": "python",
   "name": "python3"
  },
  "language_info": {
   "codemirror_mode": {
    "name": "ipython",
    "version": 3
   },
   "file_extension": ".py",
   "mimetype": "text/x-python",
   "name": "python",
   "nbconvert_exporter": "python",
   "pygments_lexer": "ipython3",
   "version": "3.8.5"
  }
 },
 "nbformat": 4,
 "nbformat_minor": 4
}
